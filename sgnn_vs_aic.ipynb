{
  "cells": [
    {
      "cell_type": "code",
      "execution_count": null,
      "metadata": {
        "colab": {
          "background_save": true,
          "base_uri": "https://localhost:8080/"
        },
        "id": "bHFeTJrK3Ahc",
        "outputId": "8b4ee7bd-8711-4afc-f182-98870bdb8938"
      },
      "outputs": [
        {
          "name": "stdout",
          "output_type": "stream",
          "text": [
            "Computing AIC performance...\n"
          ]
        },
        {
          "name": "stderr",
          "output_type": "stream",
          "text": [
            "100%|██████████| 12000/12000 [05:59<00:00, 33.42it/s]\n"
          ]
        },
        {
          "name": "stdout",
          "output_type": "stream",
          "text": [
            "AIC Accuracy = 0.908 | Error = 0.092\n"
          ]
        },
        {
          "name": "stderr",
          "output_type": "stream",
          "text": [
            "100%|██████████| 32/32 [02:55<00:00,  5.49s/it]\n"
          ]
        },
        {
          "name": "stdout",
          "output_type": "stream",
          "text": [
            "Epoch 1: SGNN Acc = 0.674, Error = 0.326, Loss = 0.6558\n"
          ]
        },
        {
          "name": "stderr",
          "output_type": "stream",
          "text": [
            "100%|██████████| 32/32 [02:55<00:00,  5.49s/it]\n"
          ]
        },
        {
          "name": "stdout",
          "output_type": "stream",
          "text": [
            "Epoch 2: SGNN Acc = 0.738, Error = 0.262, Loss = 0.5398\n"
          ]
        },
        {
          "name": "stderr",
          "output_type": "stream",
          "text": [
            "100%|██████████| 32/32 [02:55<00:00,  5.48s/it]\n"
          ]
        },
        {
          "name": "stdout",
          "output_type": "stream",
          "text": [
            "Epoch 3: SGNN Acc = 0.805, Error = 0.195, Loss = 0.4655\n"
          ]
        },
        {
          "name": "stderr",
          "output_type": "stream",
          "text": [
            "100%|██████████| 32/32 [02:55<00:00,  5.50s/it]\n"
          ]
        },
        {
          "name": "stdout",
          "output_type": "stream",
          "text": [
            "Epoch 4: SGNN Acc = 0.866, Error = 0.134, Loss = 0.4043\n"
          ]
        },
        {
          "name": "stderr",
          "output_type": "stream",
          "text": [
            "100%|██████████| 32/32 [02:56<00:00,  5.51s/it]\n"
          ]
        },
        {
          "name": "stdout",
          "output_type": "stream",
          "text": [
            "Epoch 5: SGNN Acc = 0.934, Error = 0.066, Loss = 0.2955\n"
          ]
        },
        {
          "name": "stderr",
          "output_type": "stream",
          "text": [
            "100%|██████████| 32/32 [02:56<00:00,  5.51s/it]\n"
          ]
        },
        {
          "name": "stdout",
          "output_type": "stream",
          "text": [
            "Epoch 6: SGNN Acc = 0.943, Error = 0.057, Loss = 0.1936\n"
          ]
        },
        {
          "name": "stderr",
          "output_type": "stream",
          "text": [
            "100%|██████████| 32/32 [02:56<00:00,  5.50s/it]\n"
          ]
        },
        {
          "name": "stdout",
          "output_type": "stream",
          "text": [
            "Epoch 7: SGNN Acc = 0.950, Error = 0.050, Loss = 0.1555\n"
          ]
        },
        {
          "name": "stderr",
          "output_type": "stream",
          "text": [
            "100%|██████████| 32/32 [02:56<00:00,  5.51s/it]\n"
          ]
        },
        {
          "name": "stdout",
          "output_type": "stream",
          "text": [
            "Epoch 8: SGNN Acc = 0.944, Error = 0.056, Loss = 0.1339\n"
          ]
        },
        {
          "name": "stderr",
          "output_type": "stream",
          "text": [
            "100%|██████████| 32/32 [02:56<00:00,  5.50s/it]\n"
          ]
        },
        {
          "name": "stdout",
          "output_type": "stream",
          "text": [
            "Epoch 9: SGNN Acc = 0.951, Error = 0.049, Loss = 0.1276\n"
          ]
        },
        {
          "name": "stderr",
          "output_type": "stream",
          "text": [
            "100%|██████████| 32/32 [02:55<00:00,  5.49s/it]\n"
          ]
        },
        {
          "name": "stdout",
          "output_type": "stream",
          "text": [
            "Epoch 10: SGNN Acc = 0.953, Error = 0.047, Loss = 0.1187\n"
          ]
        },
        {
          "name": "stderr",
          "output_type": "stream",
          "text": [
            "100%|██████████| 32/32 [02:55<00:00,  5.49s/it]\n"
          ]
        },
        {
          "name": "stdout",
          "output_type": "stream",
          "text": [
            "Epoch 11: SGNN Acc = 0.957, Error = 0.043, Loss = 0.1132\n"
          ]
        },
        {
          "name": "stderr",
          "output_type": "stream",
          "text": [
            "100%|██████████| 32/32 [02:54<00:00,  5.46s/it]\n"
          ]
        },
        {
          "name": "stdout",
          "output_type": "stream",
          "text": [
            "Epoch 12: SGNN Acc = 0.932, Error = 0.068, Loss = 0.1111\n"
          ]
        },
        {
          "name": "stderr",
          "output_type": "stream",
          "text": [
            "100%|██████████| 32/32 [02:54<00:00,  5.47s/it]\n"
          ]
        },
        {
          "name": "stdout",
          "output_type": "stream",
          "text": [
            "Epoch 13: SGNN Acc = 0.959, Error = 0.041, Loss = 0.1157\n"
          ]
        },
        {
          "name": "stderr",
          "output_type": "stream",
          "text": [
            "100%|██████████| 32/32 [02:55<00:00,  5.47s/it]\n"
          ]
        },
        {
          "name": "stdout",
          "output_type": "stream",
          "text": [
            "Epoch 14: SGNN Acc = 0.953, Error = 0.047, Loss = 0.1039\n"
          ]
        },
        {
          "name": "stderr",
          "output_type": "stream",
          "text": [
            "100%|██████████| 32/32 [02:55<00:00,  5.47s/it]\n"
          ]
        },
        {
          "name": "stdout",
          "output_type": "stream",
          "text": [
            "Epoch 15: SGNN Acc = 0.941, Error = 0.059, Loss = 0.1082\n"
          ]
        },
        {
          "name": "stderr",
          "output_type": "stream",
          "text": [
            "100%|██████████| 32/32 [02:55<00:00,  5.50s/it]\n"
          ]
        },
        {
          "name": "stdout",
          "output_type": "stream",
          "text": [
            "Epoch 16: SGNN Acc = 0.959, Error = 0.041, Loss = 0.1103\n"
          ]
        },
        {
          "name": "stderr",
          "output_type": "stream",
          "text": [
            "100%|██████████| 32/32 [02:56<00:00,  5.52s/it]\n"
          ]
        },
        {
          "name": "stdout",
          "output_type": "stream",
          "text": [
            "Epoch 17: SGNN Acc = 0.959, Error = 0.041, Loss = 0.0970\n"
          ]
        },
        {
          "name": "stderr",
          "output_type": "stream",
          "text": [
            "100%|██████████| 32/32 [02:56<00:00,  5.52s/it]\n"
          ]
        },
        {
          "name": "stdout",
          "output_type": "stream",
          "text": [
            "Epoch 18: SGNN Acc = 0.955, Error = 0.045, Loss = 0.0964\n"
          ]
        },
        {
          "name": "stderr",
          "output_type": "stream",
          "text": [
            "100%|██████████| 32/32 [02:55<00:00,  5.50s/it]\n"
          ]
        },
        {
          "name": "stdout",
          "output_type": "stream",
          "text": [
            "Epoch 19: SGNN Acc = 0.944, Error = 0.056, Loss = 0.0951\n"
          ]
        },
        {
          "name": "stderr",
          "output_type": "stream",
          "text": [
            "100%|██████████| 32/32 [02:56<00:00,  5.51s/it]\n"
          ]
        },
        {
          "name": "stdout",
          "output_type": "stream",
          "text": [
            "Epoch 20: SGNN Acc = 0.958, Error = 0.042, Loss = 0.0954\n"
          ]
        }
      ],
      "source": [
        "import numpy as np\n",
        "import torch\n",
        "import torch.nn as nn\n",
        "import torch.nn.functional as F\n",
        "from torch.utils.data import Dataset, DataLoader, random_split\n",
        "from tqdm import tqdm\n",
        "from scipy.optimize import curve_fit\n",
        "from scipy.stats import norm\n",
        "from tqdm import tqdm\n",
        "import matplotlib.pyplot as plt\n",
        "\n",
        "# -----------------------\n",
        "# 1. SIMULATORS\n",
        "# -----------------------\n",
        "def simulate_sir(beta, gamma, T=100, noise=0.01):\n",
        "    S, I, R = [0.99], [0.01], [0.0]\n",
        "    for _ in range(T - 1):\n",
        "        dS = -beta * S[-1] * I[-1]\n",
        "        dI = beta * S[-1] * I[-1] - gamma * I[-1]\n",
        "        dR = gamma * I[-1]\n",
        "        S.append(S[-1] + dS)\n",
        "        I.append(I[-1] + dI)\n",
        "        R.append(R[-1] + dR)\n",
        "    I_noisy = np.array(I) + np.random.normal(0, noise, T)\n",
        "    return np.clip(I_noisy, 0, 1)\n",
        "\n",
        "def simulate_seir(beta, sigma, gamma, T=100, noise=0.01):\n",
        "    S, E, I, R = [0.99], [0.0], [0.01], [0.0]\n",
        "    for _ in range(T - 1):\n",
        "        dS = -beta * S[-1] * I[-1]\n",
        "        dE = beta * S[-1] * I[-1] - sigma * E[-1]\n",
        "        dI = sigma * E[-1] - gamma * I[-1]\n",
        "        dR = gamma * I[-1]\n",
        "        S.append(S[-1] + dS)\n",
        "        E.append(E[-1] + dE)\n",
        "        I.append(I[-1] + dI)\n",
        "        R.append(R[-1] + dR)\n",
        "    I_noisy = np.array(I) + np.random.normal(0, noise, T)\n",
        "    return np.clip(I_noisy, 0, 1)\n",
        "\n",
        "# -----------------------\n",
        "# 2. DATASET\n",
        "# -----------------------\n",
        "class EpidemicDataset(Dataset):\n",
        "    def __init__(self, N=1000, T=100):\n",
        "        self.data = []\n",
        "        for _ in range(N // 2):\n",
        "            beta, gamma = np.random.uniform(0.1, 0.5), np.random.uniform(0.05, 0.2)\n",
        "            series = simulate_sir(beta, gamma, T)\n",
        "            self.data.append((series, 0))  # label 0 = SIR\n",
        "        for _ in range(N // 2):\n",
        "            beta, sigma, gamma = np.random.uniform(0.1, 0.5), np.random.uniform(0.1, 0.3), np.random.uniform(0.05, 0.2)\n",
        "            series = simulate_seir(beta, sigma, gamma, T)\n",
        "            self.data.append((series, 1))  # label 1 = SEIR\n",
        "        np.random.shuffle(self.data)\n",
        "\n",
        "    def __len__(self):\n",
        "        return len(self.data)\n",
        "\n",
        "    def __getitem__(self, idx):\n",
        "        x, y = self.data[idx]\n",
        "        return torch.tensor(x, dtype=torch.float32).unsqueeze(0), torch.tensor(y)\n",
        "\n",
        "# -----------------------\n",
        "# 3. SGNN Model\n",
        "# -----------------------\n",
        "class ResidualBlock(nn.Module):\n",
        "    def __init__(self, channels, kernel_size=5, padding=2):\n",
        "        super().__init__()\n",
        "        self.conv1 = nn.Conv1d(channels, channels, kernel_size=kernel_size, padding=padding)\n",
        "        self.gn1 = nn.GroupNorm(4, channels)\n",
        "        self.conv2 = nn.Conv1d(channels, channels, kernel_size=kernel_size, padding=padding)\n",
        "        self.gn2 = nn.GroupNorm(4, channels)\n",
        "\n",
        "    def forward(self, x):\n",
        "        identity = x\n",
        "        out = F.gelu(self.gn1(self.conv1(x)))\n",
        "        out = self.gn2(self.conv2(out))\n",
        "        return F.gelu(out + identity)\n",
        "\n",
        "class SGNNClassifier(nn.Module):\n",
        "    def __init__(self, T):\n",
        "        super().__init__()\n",
        "\n",
        "        self.stem = nn.Sequential(\n",
        "            nn.Conv1d(1, 64, kernel_size=7, padding=3),\n",
        "            nn.GELU(),\n",
        "            nn.GroupNorm(4, 64)\n",
        "        )\n",
        "\n",
        "        self.backbone = nn.Sequential(\n",
        "            # Stage 1\n",
        "            ResidualBlock(64),\n",
        "            ResidualBlock(64),\n",
        "            nn.Conv1d(64, 128, kernel_size=3, padding=1),\n",
        "            nn.GELU(),\n",
        "\n",
        "            # Stage 2\n",
        "            ResidualBlock(128),\n",
        "            ResidualBlock(128),\n",
        "            nn.Conv1d(128, 256, kernel_size=3, padding=1),\n",
        "            nn.GELU(),\n",
        "\n",
        "            # Stage 3\n",
        "            ResidualBlock(256),\n",
        "            ResidualBlock(256),\n",
        "        )\n",
        "\n",
        "        self.pooling = nn.Sequential(\n",
        "            nn.AdaptiveAvgPool1d(1),\n",
        "            nn.AdaptiveMaxPool1d(1)\n",
        "        )\n",
        "\n",
        "        self.classifier = nn.Sequential(\n",
        "            nn.Flatten(),\n",
        "            nn.Linear(256 * 2, 512),\n",
        "            nn.GELU(),\n",
        "            nn.Dropout(0.3),\n",
        "            nn.Linear(512, 128),\n",
        "            nn.GELU(),\n",
        "            nn.Dropout(0.3),\n",
        "            nn.Linear(128, 64),\n",
        "            nn.GELU(),\n",
        "            nn.Linear(64, 2)\n",
        "        )\n",
        "\n",
        "    def forward(self, x):\n",
        "        x = self.stem(x)\n",
        "        x = self.backbone(x)\n",
        "        avg_pool = self.pooling[0](x)\n",
        "        max_pool = self.pooling[1](x)\n",
        "        x = torch.cat([avg_pool, max_pool], dim=1)\n",
        "        return self.classifier(x)\n",
        "\n",
        "\n",
        "\n",
        "# -----------------------\n",
        "# 4. AIC-based Classifier\n",
        "# -----------------------\n",
        "def aic_sir(ts):\n",
        "    def sir_model(t, beta, gamma):\n",
        "        S, I, R = 0.99, 0.01, 0.0\n",
        "        result = []\n",
        "        for _ in t:\n",
        "            dS = -beta * S * I\n",
        "            dI = beta * S * I - gamma * I\n",
        "            dR = gamma * I\n",
        "            S += dS\n",
        "            I += dI\n",
        "            R += dR\n",
        "            result.append(I)\n",
        "        return result\n",
        "\n",
        "    try:\n",
        "        popt, _ = curve_fit(sir_model, np.arange(len(ts)), ts, bounds=(0, [1.0, 1.0]))\n",
        "        residuals = ts - sir_model(np.arange(len(ts)), *popt)\n",
        "        sse = np.sum(residuals**2)\n",
        "        return len(ts) * np.log(sse / len(ts)) + 2 * 2  # AIC = n*ln(RSS/n) + 2k\n",
        "    except:\n",
        "        return np.inf\n",
        "\n",
        "def aic_seir(ts):\n",
        "    def seir_model(t, beta, sigma, gamma):\n",
        "        S, E, I, R = 0.99, 0.0, 0.01, 0.0\n",
        "        result = []\n",
        "        for _ in t:\n",
        "            dS = -beta * S * I\n",
        "            dE = beta * S * I - sigma * E\n",
        "            dI = sigma * E - gamma * I\n",
        "            dR = gamma * I\n",
        "            S += dS\n",
        "            E += dE\n",
        "            I += dI\n",
        "            R += dR\n",
        "            result.append(I)\n",
        "        return result\n",
        "\n",
        "    try:\n",
        "        popt, _ = curve_fit(seir_model, np.arange(len(ts)), ts, bounds=(0, [1.0, 1.0, 1.0]))\n",
        "        residuals = ts - seir_model(np.arange(len(ts)), *popt)\n",
        "        sse = np.sum(residuals**2)\n",
        "        return len(ts) * np.log(sse / len(ts)) + 2 * 3\n",
        "    except:\n",
        "        return np.inf\n",
        "\n",
        "def aic_predict(ts):\n",
        "    return 0 if aic_sir(ts) < aic_seir(ts) else 1\n",
        "\n",
        "# -----------------------\n",
        "# 5. Training Loop\n",
        "# -----------------------\n",
        "def train():\n",
        "    T = 100\n",
        "    dataset = EpidemicDataset(N=60000, T=T)\n",
        "    train_size = int(0.8 * len(dataset))\n",
        "    val_size = len(dataset) - train_size\n",
        "    train_data, val_data = random_split(dataset, [train_size, val_size])\n",
        "\n",
        "    train_loader = DataLoader(train_data, batch_size=1536, shuffle=True)\n",
        "    val_loader = DataLoader(val_data, batch_size=1)\n",
        "\n",
        "    model = SGNNClassifier(T)\n",
        "    optimizer = torch.optim.Adam(model.parameters(), lr=1e-5)\n",
        "    criterion = nn.CrossEntropyLoss()\n",
        "\n",
        "    sgnn_errors = []\n",
        "\n",
        "    # Compute AIC performance on validation set once\n",
        "    print(\"Computing AIC performance...\")\n",
        "    correct_aic = 0\n",
        "    total = 0\n",
        "    for x, y in tqdm(val_loader):\n",
        "        ts_np = x.squeeze().numpy()\n",
        "        pred_aic = aic_predict(ts_np)\n",
        "        correct_aic += (pred_aic == y.item())\n",
        "        total += 1\n",
        "    aic_acc = correct_aic / total\n",
        "    aic_error = 1 - aic_acc\n",
        "    print(f\"AIC Accuracy = {aic_acc:.3f} | Error = {aic_error:.3f}\")\n",
        "\n",
        "    # Train SGNN\n",
        "    for epoch in range(1, 21):\n",
        "        model.train()\n",
        "        total_loss = 0\n",
        "        for x, y in tqdm(train_loader):\n",
        "            optimizer.zero_grad()\n",
        "            logits = model(x)\n",
        "            loss = criterion(logits, y)\n",
        "            loss.backward()\n",
        "            optimizer.step()\n",
        "            total_loss += loss.item()\n",
        "\n",
        "        # Evaluate SGNN on validation set\n",
        "        model.eval()\n",
        "        correct_sgnn = 0\n",
        "        total = 0\n",
        "        with torch.no_grad():\n",
        "            for x, y in val_loader:\n",
        "                pred_sgnn = torch.argmax(model(x)).item()\n",
        "                correct_sgnn += (pred_sgnn == y.item())\n",
        "                total += 1\n",
        "\n",
        "        sgnn_acc = correct_sgnn / total\n",
        "        sgnn_error = 1 - sgnn_acc\n",
        "        sgnn_errors.append(sgnn_error)\n",
        "\n",
        "        print(f\"Epoch {epoch}: SGNN Acc = {sgnn_acc:.3f}, Error = {sgnn_error:.3f}, Loss = {total_loss/len(train_loader):.4f}\")\n",
        "\n",
        "    # Plot error vs epoch\n",
        "    plt.rcParams.update({\n",
        "        \"font.family\": \"serif\",\n",
        "        \"font.size\": 14,\n",
        "        \"figure.dpi\": 300,\n",
        "        \"text.usetex\": False\n",
        "    })\n",
        "\n",
        "    fig, ax = plt.subplots(figsize=(7, 5))\n",
        "    ax.plot(range(1, len(sgnn_errors) + 1), sgnn_errors, label='SGNN Classification Error', marker='o', linewidth=2)\n",
        "    ax.axhline(y=aic_error, color='black', linestyle='--', label='AIC Error', linewidth=2)\n",
        "\n",
        "    ax.set_xlabel('Epoch', fontsize=14)\n",
        "    ax.set_ylabel('Classification Error', fontsize=14)\n",
        "    ax.set_title('SGNN vs AIC Error Over Epochs', fontsize=15)\n",
        "    ax.legend(fontsize=13)\n",
        "    ax.tick_params(axis='both', which='major', labelsize=12)\n",
        "\n",
        "    plt.tight_layout()\n",
        "    plt.savefig(\"sgnn_vs_aic_error.pdf\", format=\"pdf\", bbox_inches='tight')\n",
        "    plt.close()\n",
        "\n",
        "\n",
        "\n",
        "if __name__ == \"__main__\":\n",
        "    train()"
      ]
    },
    {
      "cell_type": "code",
      "source": [],
      "metadata": {
        "id": "Ulm3QdUHTEY5"
      },
      "execution_count": null,
      "outputs": []
    }
  ],
  "metadata": {
    "accelerator": "GPU",
    "colab": {
      "gpuType": "L4",
      "machine_shape": "hm",
      "provenance": []
    },
    "kernelspec": {
      "display_name": "Python 3",
      "name": "python3"
    },
    "language_info": {
      "name": "python"
    }
  },
  "nbformat": 4,
  "nbformat_minor": 0
}